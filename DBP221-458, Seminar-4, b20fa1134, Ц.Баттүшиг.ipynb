{
 "cells": [
  {
   "cell_type": "code",
   "execution_count": 12,
   "id": "5bd1c2a1",
   "metadata": {},
   "outputs": [
    {
     "name": "stdout",
     "output_type": "stream",
     "text": [
      "[50 51 52 53 54 55 56 57 58 59 60 61 62 63 64 65 66 67 68 69 70 71 72 73\n",
      " 74 75 76 77 78 79 80 81 82 83 84 85 86 87 88 89 90 91 92 93 94 95 96 97\n",
      " 98 99]\n"
     ]
    }
   ],
   "source": [
    "#Дасгал-№1\n",
    "import numpy as np\n",
    "  \n",
    "list1 = (range(50, 100))\n",
    "vector1 = np.array(list1)\n",
    "  \n",
    "print(vector1)"
   ]
  },
  {
   "cell_type": "code",
   "execution_count": 13,
   "id": "24501efc",
   "metadata": {},
   "outputs": [
    {
     "name": "stdout",
     "output_type": "stream",
     "text": [
      "[0 0 0 0 0 0 0 0 0 0 1 1 1 1 1 1 1 1 1 1 6 6 6 6 6 6 6 6 6 6]\n"
     ]
    }
   ],
   "source": [
    "#Дасгал-№2\n",
    "data = [0, 0, 0, 0, 0, 0, 0, 0, 0, 0, 1, 1, 1, 1, 1, 1, 1, 1, 1, 1, 6, 6, 6, 6, 6, 6, 6, 6, 6, 6]\n",
    "vector1 = np.array(data)\n",
    "  \n",
    "print(vector1)"
   ]
  },
  {
   "cell_type": "code",
   "execution_count": 14,
   "id": "4c2b70ca",
   "metadata": {},
   "outputs": [
    {
     "name": "stdout",
     "output_type": "stream",
     "text": [
      "[[20 21 22 23]\n",
      " [24 25 26 27]\n",
      " [28 29 30 31]]\n"
     ]
    }
   ],
   "source": [
    "#Дасгал-№3\n",
    "import numpy as np\n",
    "m= np.arange(20,32).reshape((3, 4))\n",
    "print(m)"
   ]
  },
  {
   "cell_type": "code",
   "execution_count": 15,
   "id": "f8bc65a9",
   "metadata": {},
   "outputs": [
    {
     "data": {
      "text/plain": [
       "array([0., 0., 0., 0., 0., 0., 0., 0., 0., 0.])"
      ]
     },
     "execution_count": 15,
     "metadata": {},
     "output_type": "execute_result"
    }
   ],
   "source": [
    "#Дасгал-№2\n",
    "np.zeros(10)"
   ]
  },
  {
   "cell_type": "code",
   "execution_count": 16,
   "id": "7856e4cb",
   "metadata": {},
   "outputs": [
    {
     "name": "stdout",
     "output_type": "stream",
     "text": [
      "[[1 0 0]\n",
      " [0 1 0]\n",
      " [0 0 1]]\n"
     ]
    }
   ],
   "source": [
    "#Дасгал-№4\n",
    "import numpy as np\n",
    "a = np.zeros((3, 3), int) \n",
    "np.fill_diagonal(a, 1) \n",
    "print(a)"
   ]
  },
  {
   "cell_type": "code",
   "execution_count": 17,
   "id": "c07e5d68",
   "metadata": {},
   "outputs": [
    {
     "name": "stdout",
     "output_type": "stream",
     "text": [
      "[[1 0 0 0 0]\n",
      " [0 2 0 0 0]\n",
      " [0 0 3 0 0]\n",
      " [0 0 0 4 0]\n",
      " [0 0 0 0 5]]\n"
     ]
    }
   ],
   "source": [
    "#Дасгал-№5\n",
    "import numpy as np\n",
    "a = np.zeros((5, 5), int) \n",
    "np.fill_diagonal(a, range(1,6)) \n",
    "print(a)"
   ]
  },
  {
   "cell_type": "code",
   "execution_count": 18,
   "id": "cfb66880",
   "metadata": {},
   "outputs": [
    {
     "name": "stdout",
     "output_type": "stream",
     "text": [
      "Матриц-1 :  [[ 2 -7  5]\n",
      " [-6  2  0]]\n",
      "Матриц-2 :  [[ 5  8 -5]\n",
      " [ 3  6  9]]\n",
      "Нэмэгдсэн матриц :  [[ 7  1  0]\n",
      " [-3  8  9]]\n",
      "Баганы нийлбэр :  [-4 -5  5]\n",
      "Мөрийн нийлбэр :  [ 0 -4]\n"
     ]
    }
   ],
   "source": [
    "#Дасгал-№6\n",
    "\n",
    "import numpy as geek\n",
    "  \n",
    "in_arr1 = geek.array([[2, -7, 5], [-6, 2, 0]])\n",
    "in_arr2 = geek.array([[5, 8, -5], [3, 6, 9]])\n",
    "   \n",
    "print (\"Матриц-1 : \", in_arr1) \n",
    "print (\"Матриц-2 : \", in_arr2) \n",
    "    \n",
    "out_arr = geek.add(in_arr1, in_arr2) \n",
    "print (\"Нэмэгдсэн матриц : \", out_arr) \n",
    "\n",
    "import numpy as np\n",
    "a = in_arr1\n",
    "s = np.sum(a, axis=0)\n",
    "print(\"Баганы нийлбэр : \",s)\n",
    "b = np.sum(a, axis=1)\n",
    "print(\"Мөрийн нийлбэр : \",b)"
   ]
  },
  {
   "cell_type": "code",
   "execution_count": 19,
   "id": "592eff8a",
   "metadata": {},
   "outputs": [
    {
     "name": "stdout",
     "output_type": "stream",
     "text": [
      "Баганы дагуу цалингийн нийлбэрүүд [ 50299635  57248613  98406186 120776420 139835227 144667149 166489555\n",
      " 189711742 205782921 204790923]\n",
      "Мөрийн дагуу цалингийн нийлбэрүүд [229306822 166205113 141461033 151622715 140546503 138008113 116051459\n",
      "  88510296  75445211 130851106]\n",
      "Баганы дагуу нийт тоглолтын нийлбэрүүд [701 618 716 776 728 780 560 663 596 531]\n",
      "Мөрийн дагуу нийт тоглолтын нийлбэрүүд [653 739 752 673 727 684 699 639 460 643]\n",
      "Баганы дагуу оруулсан гоалуудын нийлбэрүүд [5878 5248 5898 6639 6416 6383 4654 5284 4696 3941]\n",
      "Мөрийн дагуу оруулсан гоалуудын нийлбэрүүд [6431 5360 7533 6293 4876 5051 4604 5826 3279 5784]\n"
     ]
    }
   ],
   "source": [
    "#Дасгал-№7\n",
    "import numpy as np\n",
    "\n",
    "#Seasons\n",
    "Seasons = [\"2010\",\"2011\",\"2012\",\"2013\",\"2014\",\"2015\",\"2016\",\"2017\",\"2018\",\"2019\"]\n",
    "Sdict = {\"2010\":0,\"2011\":1,\"2012\":2,\"2013\":3,\"2014\":4,\"2015\":5,\"2016\":6,\"2017\":7,\"2018\":8,\"2019\":9}\n",
    "\n",
    "#Players\n",
    "Players = [\"LionelMessi\",\"CristianoRonaldo\",\"Neymar\",\"RobertLewandowski\",\"KylianMbappé\",\"KevinDeBruyne\",\"VirgilvanDijk\",\"SadioMané\",\"RiyadMahrez\",\"ErlingHaaland\"]\n",
    "Pdict = {\"LionelMessi\":0,\"CristianoRonaldo\":1,\"Neymar\":2,\"RobertLewandowski\":3,\"KylianMbappé\":4,\"KevinDeBruyne\":5,\"VirgilvanDijk\":6,\"SadioMané\":7,\"RiyadMahrez\":8,\"ErlingHaaland\":9}\n",
    "\n",
    "#Salaries\n",
    "LionelMessi_Salary = [15946875,17718750,19490625,21262500,23034375,24806250,25244493,27849149,30453805,23500000]\n",
    "CristianoRonaldo_Salary = [12000000,12744189,13488377,14232567,14976754,16324500,18038573,19752645,21466718,23180790]\n",
    "Neymar_Salary = [4621800,5828090,13041250,14410581,15779912,14500000,16022500,17545000,19067500,20644400]\n",
    "RobertLewandowski_Salary = [3713640,4694041,13041250,14410581,15779912,17149243,18518574,19450000,22407474,22458000]\n",
    "KylianMbappé_Salary = [4493160,4806720,6061274,13758000,15202590,16647180,18091770,19536360,20513178,21436271]\n",
    "KevinDeBruyne_Salary = [3348000,4235220,12455000,14410581,15779912,14500000,16022500,17545000,19067500,20644400]\n",
    "VirgilvanDijk_Salary = [3144240,3380160,3615960,4574189,13520500,14940153,16359805,17779458,18668431,20068563]\n",
    "SadioMané_Salary = [0,0,4171200,4484040,4796880,6053663,15506632,16669630,17832627,18995624]\n",
    "RiyadMahrez_Salary = [0,0,0,4822800,5184480,5546160,6993708,16402500,17632688,18862875]\n",
    "ErlingHaaland_Salary = [3031920,3841443,13041250,14410581,15779912,14200000,15691000,17182000,18673000,15000000]\n",
    "#Matrix \n",
    "Salary = np.array([LionelMessi_Salary, CristianoRonaldo_Salary, Neymar_Salary, RobertLewandowski_Salary, KylianMbappé_Salary, KevinDeBruyne_Salary, VirgilvanDijk_Salary, SadioMané_Salary, RiyadMahrez_Salary, ErlingHaaland_Salary])\n",
    "\n",
    "#Games \n",
    "LionelMessi_G = [80,77,82,82,73,82,58,78,6,35]\n",
    "CristianoRonaldo_G = [82,57,82,79,76,72,60,72,79,80]\n",
    "Neymar_G = [79,78,75,81,76,79,62,76,77,69]\n",
    "RobertLewandowski_G = [80,65,77,66,69,77,55,67,77,40]\n",
    "KylianMbappé_G = [82,82,82,79,82,78,54,76,71,41]\n",
    "KevinDeBruyne_G = [70,69,67,77,70,77,57,74,79,44]\n",
    "VirgilvanDijk_G = [78,64,80,78,45,80,60,70,62,82]\n",
    "SadioMané_G = [35,35,80,74,82,78,66,81,81,27]\n",
    "RiyadMahrez_G = [40,40,40,81,78,81,39,0,10,51]\n",
    "ErlingHaaland_G = [75,51,51,79,77,76,49,69,54,62]\n",
    "#Matrix\n",
    "Games = np.array([LionelMessi_G, CristianoRonaldo_G, Neymar_G, RobertLewandowski_G, KylianMbappé_G, KevinDeBruyne_G, VirgilvanDijk_G, SadioMané_G, RiyadMahrez_G, ErlingHaaland_G])\n",
    "\n",
    "#Field Goals\n",
    "LionelMessi_FG = [978,813,775,800,716,740,574,738,31,266]\n",
    "CristianoRonaldo_FG = [632,536,647,620,635,514,423,445,462,446]\n",
    "Neymar_FG = [875,772,794,789,768,758,621,765,767,624]\n",
    "RobertLewandowski_FG = [756,691,728,535,688,684,441,669,743,358]\n",
    "KylianMbappé_FG = [468,526,583,560,510,619,416,470,473,251]\n",
    "KevinDeBruyne_FG = [549,543,507,615,600,524,393,485,492,343]\n",
    "VirgilvanDijk_FG = [407,381,630,631,314,430,425,412,406,568]\n",
    "SadioMané_FG = [306,306,587,661,794,711,643,731,849,238]\n",
    "RiyadMahrez_FG = [208,208,208,574,672,711,302,0,58,338]\n",
    "ErlingHaaland_FG = [699,472,439,854,719,692,416,569,415,509]\n",
    "#Matrix\n",
    "FieldGoals  = np.array([LionelMessi_FG, CristianoRonaldo_FG, Neymar_FG, RobertLewandowski_FG, KylianMbappé_FG, KevinDeBruyne_FG, VirgilvanDijk_FG, SadioMané_FG, RiyadMahrez_FG, ErlingHaaland_FG])\n",
    "\n",
    "a = np.sum(Salary, axis=0) #Баганы дагуу нийлбэрүүд\n",
    "print(\"Баганы дагуу цалингийн нийлбэрүүд\", a)\n",
    "b = np.sum(Salary, axis=1) #Мөрийн дагуу нийлбэрүүд\n",
    "print(\"Мөрийн дагуу цалингийн нийлбэрүүд\", b)\n",
    "\n",
    "c = np.sum(Games, axis=0) #Баганы дагуу нийлбэрүүд\n",
    "print(\"Баганы дагуу нийт тоглолтын нийлбэрүүд\", c)\n",
    "d = np.sum(Games, axis=1) #Мөрийн дагуу нийлбэрүүд\n",
    "print(\"Мөрийн дагуу нийт тоглолтын нийлбэрүүд\", d)\n",
    "\n",
    "e = np.sum(FieldGoals, axis=0) #Баганы дагуу нийлбэрүүд\n",
    "print(\"Баганы дагуу оруулсан гоалуудын нийлбэрүүд\", e)\n",
    "f = np.sum(FieldGoals, axis=1) #Мөрийн дагуу нийлбэрүүд\n",
    "print(\"Мөрийн дагуу оруулсан гоалуудын нийлбэрүүд\", f)"
   ]
  },
  {
   "cell_type": "code",
   "execution_count": null,
   "id": "08ab76a5",
   "metadata": {},
   "outputs": [],
   "source": []
  }
 ],
 "metadata": {
  "kernelspec": {
   "display_name": "Python 3 (ipykernel)",
   "language": "python",
   "name": "python3"
  },
  "language_info": {
   "codemirror_mode": {
    "name": "ipython",
    "version": 3
   },
   "file_extension": ".py",
   "mimetype": "text/x-python",
   "name": "python",
   "nbconvert_exporter": "python",
   "pygments_lexer": "ipython3",
   "version": "3.9.7"
  }
 },
 "nbformat": 4,
 "nbformat_minor": 5
}
