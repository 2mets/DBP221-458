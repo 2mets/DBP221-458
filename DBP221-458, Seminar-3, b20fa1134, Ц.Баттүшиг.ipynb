{
  "metadata": {
    "language_info": {
      "codemirror_mode": {
        "name": "python",
        "version": 3
      },
      "file_extension": ".py",
      "mimetype": "text/x-python",
      "name": "python",
      "nbconvert_exporter": "python",
      "pygments_lexer": "ipython3",
      "version": "3.8"
    },
    "kernelspec": {
      "name": "python",
      "display_name": "Python (Pyodide)",
      "language": "python"
    }
  },
  "nbformat_minor": 4,
  "nbformat": 4,
  "cells": [
    {
      "cell_type": "code",
      "source": "import numpy as np\n\n#Seasons\nSeasons = [\"2005\",\"2006\",\"2007\",\"2008\",\"2009\",\"2010\",\"2011\",\"2012\",\"2013\",\"2014\"]\nSdict = {\"2005\":0,\"2006\":1,\"2007\":2,\"2008\":3,\"2009\":4,\"2010\":5,\"2011\":6,\"2012\":7,\"2013\":8,\"2014\":9}\n\n#Players\nPlayers = [\"KobeBryant\",\"JoeJohnson\",\"LeBronJames\",\"CarmeloAnthony\",\"DwightHoward\",\"ChrisBosh\",\"ChrisPaul\",\"KevinDurant\",\"DerrickRose\",\"DwayneWade\"]\nPdict = {\"KobeBryant\":0,\"JoeJohnson\":1,\"LeBronJames\":2,\"CarmeloAnthony\":3,\"DwightHoward\":4,\"ChrisBosh\":5,\"ChrisPaul\":6,\"KevinDurant\":7,\"DerrickRose\":8,\"DwayneWade\":9}\n\n#Salaries\nKobeBryant_Salary = [15946875,17718750,19490625,21262500,23034375,24806250,25244493,27849149,30453805,23500000]\nJoeJohnson_Salary = [12000000,12744189,13488377,14232567,14976754,16324500,18038573,19752645,21466718,23180790]\nLeBronJames_Salary = [4621800,5828090,13041250,14410581,15779912,14500000,16022500,17545000,19067500,20644400]\nCarmeloAnthony_Salary = [3713640,4694041,13041250,14410581,15779912,17149243,18518574,19450000,22407474,22458000]\nDwightHoward_Salary = [4493160,4806720,6061274,13758000,15202590,16647180,18091770,19536360,20513178,21436271]\nChrisBosh_Salary = [3348000,4235220,12455000,14410581,15779912,14500000,16022500,17545000,19067500,20644400]\nChrisPaul_Salary = [3144240,3380160,3615960,4574189,13520500,14940153,16359805,17779458,18668431,20068563]\nKevinDurant_Salary = [0,0,4171200,4484040,4796880,6053663,15506632,16669630,17832627,18995624]\nDerrickRose_Salary = [0,0,0,4822800,5184480,5546160,6993708,16402500,17632688,18862875]\nDwayneWade_Salary = [3031920,3841443,13041250,14410581,15779912,14200000,15691000,17182000,18673000,15000000]\n#Matrix\nSalary = np.array([KobeBryant_Salary, JoeJohnson_Salary, LeBronJames_Salary, CarmeloAnthony_Salary, DwightHoward_Salary, ChrisBosh_Salary, ChrisPaul_Salary, KevinDurant_Salary, DerrickRose_Salary, DwayneWade_Salary])\n\n#Games \nKobeBryant_G = [80,77,82,82,73,82,58,78,6,35]\nJoeJohnson_G = [82,57,82,79,76,72,60,72,79,80]\nLeBronJames_G = [79,78,75,81,76,79,62,76,77,69]\nCarmeloAnthony_G = [80,65,77,66,69,77,55,67,77,40]\nDwightHoward_G = [82,82,82,79,82,78,54,76,71,41]\nChrisBosh_G = [70,69,67,77,70,77,57,74,79,44]\nChrisPaul_G = [78,64,80,78,45,80,60,70,62,82]\nKevinDurant_G = [35,35,80,74,82,78,66,81,81,27]\nDerrickRose_G = [40,40,40,81,78,81,39,0,10,51]\nDwayneWade_G = [75,51,51,79,77,76,49,69,54,62]\n#Matrix\nGames = np.array([KobeBryant_G, JoeJohnson_G, LeBronJames_G, CarmeloAnthony_G, DwightHoward_G, ChrisBosh_G, ChrisPaul_G, KevinDurant_G, DerrickRose_G, DwayneWade_G])\n\n#Minutes Played\nKobeBryant_MP = [3277,3140,3192,2960,2835,2779,2232,3013,177,1207]\nJoeJohnson_MP = [3340,2359,3343,3124,2886,2554,2127,2642,2575,2791]\nLeBronJames_MP = [3361,3190,3027,3054,2966,3063,2326,2877,2902,2493]\nCarmeloAnthony_MP = [2941,2486,2806,2277,2634,2751,1876,2482,2982,1428]\nDwightHoward_MP = [3021,3023,3088,2821,2843,2935,2070,2722,2396,1223]\nChrisBosh_MP = [2751,2658,2425,2928,2526,2795,2007,2454,2531,1556]\nChrisPaul_MP = [2808,2353,3006,3002,1712,2880,2181,2335,2171,2857]\nKevinDurant_MP = [1255,1255,2768,2885,3239,3038,2546,3119,3122,913]\nDerrickRose_MP = [1168,1168,1168,3000,2871,3026,1375,0,311,1530]\nDwayneWade_MP = [2892,1931,1954,3048,2792,2823,1625,2391,1775,1971]\n#Matrix\nMinutesPlayed = np.array([KobeBryant_MP, JoeJohnson_MP, LeBronJames_MP, CarmeloAnthony_MP, DwightHoward_MP, ChrisBosh_MP, ChrisPaul_MP, KevinDurant_MP, DerrickRose_MP, DwayneWade_MP])\n\n#Field Goals\nKobeBryant_FG = [978,813,775,800,716,740,574,738,31,266]\nJoeJohnson_FG = [632,536,647,620,635,514,423,445,462,446]\nLeBronJames_FG = [875,772,794,789,768,758,621,765,767,624]\nCarmeloAnthony_FG = [756,691,728,535,688,684,441,669,743,358]\nDwightHoward_FG = [468,526,583,560,510,619,416,470,473,251]\nChrisBosh_FG = [549,543,507,615,600,524,393,485,492,343]\nChrisPaul_FG = [407,381,630,631,314,430,425,412,406,568]\nKevinDurant_FG = [306,306,587,661,794,711,643,731,849,238]\nDerrickRose_FG = [208,208,208,574,672,711,302,0,58,338]\nDwayneWade_FG = [699,472,439,854,719,692,416,569,415,509]\n#Matrix\nFieldGoals  = np.array([KobeBryant_FG, JoeJohnson_FG, LeBronJames_FG, CarmeloAnthony_FG, DwightHoward_FG, ChrisBosh_FG, ChrisPaul_FG, KevinDurant_FG, DerrickRose_FG, DwayneWade_FG])\n\n#Field Goal Attempts\nKobeBryant_FGA = [2173,1757,1690,1712,1569,1639,1336,1595,73,713]\nJoeJohnson_FGA = [1395,1139,1497,1420,1386,1161,931,1052,1018,1025]\nLeBronJames_FGA = [1823,1621,1642,1613,1528,1485,1169,1354,1353,1279]\nCarmeloAnthony_FGA = [1572,1453,1481,1207,1502,1503,1025,1489,1643,806]\nDwightHoward_FGA = [881,873,974,979,834,1044,726,813,800,423]\nChrisBosh_FGA = [1087,1094,1027,1263,1158,1056,807,907,953,745]\nChrisPaul_FGA = [947,871,1291,1255,637,928,890,856,870,1170]\nKevinDurant_FGA = [647,647,1366,1390,1668,1538,1297,1433,1688,467]\nDerrickRose_FGA = [436,436,436,1208,1373,1597,695,0,164,835]\nDwayneWade_FGA = [1413,962,937,1739,1511,1384,837,1093,761,1084]\n#Matrix\nFieldGoalAttempts = np.array([KobeBryant_FGA, JoeJohnson_FGA, LeBronJames_FGA, CarmeloAnthony_FGA, DwightHoward_FGA, ChrisBosh_FGA, ChrisPaul_FGA, KevinDurant_FGA, DerrickRose_FGA, DwayneWade_FGA])\n\n#Points\nKobeBryant_PTS = [2832,2430,2323,2201,1970,2078,1616,2133,83,782]\nJoeJohnson_PTS = [1653,1426,1779,1688,1619,1312,1129,1170,1245,1154]\nLeBronJames_PTS = [2478,2132,2250,2304,2258,2111,1683,2036,2089,1743]\nCarmeloAnthony_PTS = [2122,1881,1978,1504,1943,1970,1245,1920,2112,966]\nDwightHoward_PTS = [1292,1443,1695,1624,1503,1784,1113,1296,1297,646]\nChrisBosh_PTS = [1572,1561,1496,1746,1678,1438,1025,1232,1281,928]\nChrisPaul_PTS = [1258,1104,1684,1781,841,1268,1189,1186,1185,1564]\nKevinDurant_PTS = [903,903,1624,1871,2472,2161,1850,2280,2593,686]\nDerrickRose_PTS = [597,597,597,1361,1619,2026,852,0,159,904]\nDwayneWade_PTS = [2040,1397,1254,2386,2045,1941,1082,1463,1028,1331]\n#Matrix\nPoints = np.array([KobeBryant_PTS, JoeJohnson_PTS, LeBronJames_PTS, CarmeloAnthony_PTS, DwightHoward_PTS, ChrisBosh_PTS, ChrisPaul_PTS, KevinDurant_PTS, DerrickRose_PTS, DwayneWade_PTS])             ",
      "metadata": {
        "trusted": true
      },
      "execution_count": 1,
      "outputs": []
    },
    {
      "cell_type": "code",
      "source": "Points",
      "metadata": {
        "trusted": true
      },
      "execution_count": 2,
      "outputs": [
        {
          "execution_count": 2,
          "output_type": "execute_result",
          "data": {
            "text/plain": "array([[2832, 2430, 2323, 2201, 1970, 2078, 1616, 2133,   83,  782],\n       [1653, 1426, 1779, 1688, 1619, 1312, 1129, 1170, 1245, 1154],\n       [2478, 2132, 2250, 2304, 2258, 2111, 1683, 2036, 2089, 1743],\n       [2122, 1881, 1978, 1504, 1943, 1970, 1245, 1920, 2112,  966],\n       [1292, 1443, 1695, 1624, 1503, 1784, 1113, 1296, 1297,  646],\n       [1572, 1561, 1496, 1746, 1678, 1438, 1025, 1232, 1281,  928],\n       [1258, 1104, 1684, 1781,  841, 1268, 1189, 1186, 1185, 1564],\n       [ 903,  903, 1624, 1871, 2472, 2161, 1850, 2280, 2593,  686],\n       [ 597,  597,  597, 1361, 1619, 2026,  852,    0,  159,  904],\n       [2040, 1397, 1254, 2386, 2045, 1941, 1082, 1463, 1028, 1331]])"
          },
          "metadata": {}
        }
      ]
    },
    {
      "cell_type": "code",
      "source": "Points[0]",
      "metadata": {
        "trusted": true
      },
      "execution_count": 3,
      "outputs": [
        {
          "execution_count": 3,
          "output_type": "execute_result",
          "data": {
            "text/plain": "array([2832, 2430, 2323, 2201, 1970, 2078, 1616, 2133,   83,  782])"
          },
          "metadata": {}
        }
      ]
    },
    {
      "cell_type": "code",
      "source": "Points[0,3]",
      "metadata": {
        "trusted": true
      },
      "execution_count": 4,
      "outputs": [
        {
          "execution_count": 4,
          "output_type": "execute_result",
          "data": {
            "text/plain": "2201"
          },
          "metadata": {}
        }
      ]
    },
    {
      "cell_type": "code",
      "source": "Points[0][3]",
      "metadata": {
        "trusted": true
      },
      "execution_count": 5,
      "outputs": [
        {
          "execution_count": 5,
          "output_type": "execute_result",
          "data": {
            "text/plain": "2201"
          },
          "metadata": {}
        }
      ]
    },
    {
      "cell_type": "code",
      "source": "Points[Pdict[\"ChrisPaul\"],Sdict[\"2013\"]]",
      "metadata": {
        "trusted": true
      },
      "execution_count": 6,
      "outputs": [
        {
          "execution_count": 6,
          "output_type": "execute_result",
          "data": {
            "text/plain": "1185"
          },
          "metadata": {}
        }
      ]
    },
    {
      "cell_type": "code",
      "source": "#Нэг тоглолтонд CarmeloAnthony-ийн хэдэн оноо авч байгаа нь дундажаар\nimport warnings as w\nw.filterwarnings('ignore')\na1 = np.matrix.round(Points / Games)\na1[Pdict[\"CarmeloAnthony\"],Sdict[\"2010\"]]",
      "metadata": {
        "trusted": true
      },
      "execution_count": 7,
      "outputs": [
        {
          "execution_count": 7,
          "output_type": "execute_result",
          "data": {
            "text/plain": "26.0"
          },
          "metadata": {}
        }
      ]
    },
    {
      "cell_type": "code",
      "source": "#KevinDurant хэдэн минут тоголсоноор тооцогдох дундаж цалин\nimport warnings as w\nw.filterwarnings('ignore')\na1 = np.matrix.round(Salary / MinutesPlayed)\na1[Pdict[\"KevinDurant\"],Sdict[\"2009\"]]",
      "metadata": {
        "trusted": true
      },
      "execution_count": 8,
      "outputs": [
        {
          "execution_count": 8,
          "output_type": "execute_result",
          "data": {
            "text/plain": "1481.0"
          },
          "metadata": {}
        }
      ]
    },
    {
      "cell_type": "code",
      "source": "#CarmeloAnthony дундажаар хэдэн минут талбайд байснаар 1 оноо авах вэ\nimport warnings as w\nw.filterwarnings('ignore')\na1 = np.matrix.round(MinutesPlayed / Points)\na1[Pdict[\"CarmeloAnthony\"],Sdict[\"2010\"]]",
      "metadata": {
        "trusted": true
      },
      "execution_count": 9,
      "outputs": [
        {
          "execution_count": 9,
          "output_type": "execute_result",
          "data": {
            "text/plain": "1.0"
          },
          "metadata": {}
        }
      ]
    },
    {
      "cell_type": "code",
      "source": "import numpy as np\n\n#Seasons\nSeasons = [\"2010\",\"2011\",\"2012\",\"2013\",\"2014\",\"2015\",\"2016\",\"2017\",\"2018\",\"2019\"]\nSdict = {\"2010\":0,\"2011\":1,\"2012\":2,\"2013\":3,\"2014\":4,\"2015\":5,\"2016\":6,\"2017\":7,\"2018\":8,\"2019\":9}\n\n#Players\nPlayers = [\"LionelMessi\",\"CristianoRonaldo\",\"Neymar\",\"RobertLewandowski\",\"KylianMbappé\",\"KevinDeBruyne\",\"VirgilvanDijk\",\"SadioMané\",\"RiyadMahrez\",\"ErlingHaaland\"]\nPdict = {\"LionelMessi\":0,\"CristianoRonaldo\":1,\"Neymar\":2,\"RobertLewandowski\":3,\"KylianMbappé\":4,\"KevinDeBruyne\":5,\"VirgilvanDijk\":6,\"SadioMané\":7,\"RiyadMahrez\":8,\"ErlingHaaland\":9}\n\n#Salaries\nLionelMessi_Salary = [15946875,17718750,19490625,21262500,23034375,24806250,25244493,27849149,30453805,23500000]\nCristianoRonaldo_Salary = [12000000,12744189,13488377,14232567,14976754,16324500,18038573,19752645,21466718,23180790]\nNeymar_Salary = [4621800,5828090,13041250,14410581,15779912,14500000,16022500,17545000,19067500,20644400]\nRobertLewandowski_Salary = [3713640,4694041,13041250,14410581,15779912,17149243,18518574,19450000,22407474,22458000]\nKylianMbappé_Salary = [4493160,4806720,6061274,13758000,15202590,16647180,18091770,19536360,20513178,21436271]\nKevinDeBruyne_Salary = [3348000,4235220,12455000,14410581,15779912,14500000,16022500,17545000,19067500,20644400]\nVirgilvanDijk_Salary = [3144240,3380160,3615960,4574189,13520500,14940153,16359805,17779458,18668431,20068563]\nSadioMané_Salary = [0,0,4171200,4484040,4796880,6053663,15506632,16669630,17832627,18995624]\nRiyadMahrez_Salary = [0,0,0,4822800,5184480,5546160,6993708,16402500,17632688,18862875]\nErlingHaaland_Salary = [3031920,3841443,13041250,14410581,15779912,14200000,15691000,17182000,18673000,15000000]\n#Matrix \nSalary = np.array([LionelMessi_Salary, CristianoRonaldo_Salary, Neymar_Salary, RobertLewandowski_Salary, KylianMbappé_Salary, KevinDeBruyne_Salary, VirgilvanDijk_Salary, SadioMané_Salary, RiyadMahrez_Salary, ErlingHaaland_Salary])\n\n#Games \nLionelMessi_G = [80,77,82,82,73,82,58,78,6,35]\nCristianoRonaldo_G = [82,57,82,79,76,72,60,72,79,80]\nNeymar_G = [79,78,75,81,76,79,62,76,77,69]\nRobertLewandowski_G = [80,65,77,66,69,77,55,67,77,40]\nKylianMbappé_G = [82,82,82,79,82,78,54,76,71,41]\nKevinDeBruyne_G = [70,69,67,77,70,77,57,74,79,44]\nVirgilvanDijk_G = [78,64,80,78,45,80,60,70,62,82]\nSadioMané_G = [35,35,80,74,82,78,66,81,81,27]\nRiyadMahrez_G = [40,40,40,81,78,81,39,0,10,51]\nErlingHaaland_G = [75,51,51,79,77,76,49,69,54,62]\n#Matrix\nGames = np.array([LionelMessi_G, CristianoRonaldo_G, Neymar_G, RobertLewandowski_G, KylianMbappé_G, KevinDeBruyne_G, VirgilvanDijk_G, SadioMané_G, RiyadMahrez_G, ErlingHaaland_G])\n\n#Field Goals\nLionelMessi_FG = [978,813,775,800,716,740,574,738,31,266]\nCristianoRonaldo_FG = [632,536,647,620,635,514,423,445,462,446]\nNeymar_FG = [875,772,794,789,768,758,621,765,767,624]\nRobertLewandowski_FG = [756,691,728,535,688,684,441,669,743,358]\nKylianMbappé_FG = [468,526,583,560,510,619,416,470,473,251]\nKevinDeBruyne_FG = [549,543,507,615,600,524,393,485,492,343]\nVirgilvanDijk_FG = [407,381,630,631,314,430,425,412,406,568]\nSadioMané_FG = [306,306,587,661,794,711,643,731,849,238]\nRiyadMahrez_FG = [208,208,208,574,672,711,302,0,58,338]\nErlingHaaland_FG = [699,472,439,854,719,692,416,569,415,509]\n#Matrix\nFieldGoals  = np.array([LionelMessi_FG, CristianoRonaldo_FG, Neymar_FG, RobertLewandowski_FG, KylianMbappé_FG, KevinDeBruyne_FG, VirgilvanDijk_FG, SadioMané_FG, RiyadMahrez_FG, ErlingHaaland_FG])\n\na = np.sum(Salary, axis=0) #Баганы дагуу нийлбэрүүд\nprint(\"Баганы дагуу цалингийн нийлбэрүүд\", a)\nb = np.sum(Salary, axis=1) #Мөрийн дагуу нийлбэрүүд\nprint(\"Мөрийн дагуу цалингийн нийлбэрүүд\", b)\n\nc = np.sum(Games, axis=0) #Баганы дагуу нийлбэрүүд\nprint(\"Баганы дагуу нийт тоглолтын нийлбэрүүд\", c)\nd = np.sum(Games, axis=1) #Мөрийн дагуу нийлбэрүүд\nprint(\"Мөрийн дагуу нийт тоглолтын нийлбэрүүд\", d)\n\ne = np.sum(FieldGoals, axis=0) #Баганы дагуу нийлбэрүүд\nprint(\"Баганы дагуу оруулсан гоалуудын нийлбэрүүд\", e)\nf = np.sum(FieldGoals, axis=1) #Мөрийн дагуу нийлбэрүүд\nprint(\"Мөрийн дагуу оруулсан гоалуудын нийлбэрүүд\", f)",
      "metadata": {
        "trusted": true
      },
      "execution_count": 10,
      "outputs": [
        {
          "name": "stdout",
          "text": "Баганы дагуу цалингийн нийлбэрүүд [ 50299635  57248613  98406186 120776420 139835227 144667149 166489555\n 189711742 205782921 204790923]\nМөрийн дагуу цалингийн нийлбэрүүд [229306822 166205113 141461033 151622715 140546503 138008113 116051459\n  88510296  75445211 130851106]\nБаганы дагуу нийт тоглолтын нийлбэрүүд [701 618 716 776 728 780 560 663 596 531]\nМөрийн дагуу нийт тоглолтын нийлбэрүүд [653 739 752 673 727 684 699 639 460 643]\nБаганы дагуу оруулсан гоалуудын нийлбэрүүд [5878 5248 5898 6639 6416 6383 4654 5284 4696 3941]\nМөрийн дагуу оруулсан гоалуудын нийлбэрүүд [6431 5360 7533 6293 4876 5051 4604 5826 3279 5784]\n",
          "output_type": "stream"
        }
      ]
    },
    {
      "cell_type": "code",
      "source": "",
      "metadata": {},
      "execution_count": null,
      "outputs": []
    }
  ]
}