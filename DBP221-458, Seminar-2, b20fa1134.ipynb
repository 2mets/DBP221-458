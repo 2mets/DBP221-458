{
 "cells": [
  {
   "cell_type": "code",
   "execution_count": 16,
   "id": "8eb2f925",
   "metadata": {},
   "outputs": [
    {
     "name": "stdout",
     "output_type": "stream",
     "text": [
      "Дурын тоо оруулна уу :12321\n",
      "Энэ тоо палиндром тоо байна\n"
     ]
    }
   ],
   "source": [
    "#Даалгавар №1\n",
    "number=int(input(\"Дурын тоо оруулна уу :\"))\n",
    "temp=number\n",
    "reverse_num=0\n",
    "while(number>0):\n",
    "    digit=number%10\n",
    "    reverse_num=reverse_num*10+digit\n",
    "    number=number//10\n",
    "if(temp==reverse_num):\n",
    "    print(\"Энэ тоо палиндром тоо байна\")\n",
    "else:\n",
    "    print(\"Энэ тоо палиндром тоо биш байна\")"
   ]
  },
  {
   "cell_type": "code",
   "execution_count": null,
   "id": "655c4763",
   "metadata": {
    "scrolled": true
   },
   "outputs": [],
   "source": [
    "#Даалгавар №2\n",
    "string = input('Дурын утга оруулна уу: ')\n",
    "\n",
    "upper, lower = 0, 0\n",
    "for i in string:\n",
    "    if(i.islower()):\n",
    "        lower = lower + 1\n",
    "    elif(i.isupper()):\n",
    "        upper = upper + 1\n",
    "\n",
    "print('Жижиг үсэг:',lower)\n",
    "print('Том үсэг:',upper)"
   ]
  },
  {
   "cell_type": "code",
   "execution_count": null,
   "id": "9544924c",
   "metadata": {},
   "outputs": [],
   "source": [
    "#Даалгавар №3\n",
    "from functools import reduce\n",
    "list1 = [1, 2, 3]\n",
    "list2 = [3, 2, 4]\n",
    " \n",
    " \n",
    "result1 = reduce((lambda x, y: x * y), list1)\n",
    "result2 = reduce((lambda x, y: x * y), list2)\n",
    "print(result1)\n",
    "print(result2)"
   ]
  },
  {
   "cell_type": "code",
   "execution_count": 2,
   "id": "34eb56c6",
   "metadata": {},
   "outputs": [
    {
     "name": "stdout",
     "output_type": "stream",
     "text": [
      "Дурын тоо оруулна уу : 2\n",
      "Таны оруулсан тооны факториал : 2\n"
     ]
    }
   ],
   "source": [
    "#Даалгавар №4\n",
    "def factorial(n):\n",
    "    if n == 0:\n",
    "        return 1\n",
    "    else:\n",
    "        return n * factorial(n-1)\n",
    "n=int(input(\"Дурын тоо оруулна уу : \"))\n",
    "print('Таны оруулсан тооны факториал :',factorial(n))"
   ]
  },
  {
   "cell_type": "code",
   "execution_count": 5,
   "id": "4b233297",
   "metadata": {},
   "outputs": [
    {
     "name": "stdout",
     "output_type": "stream",
     "text": [
      "[15, 14, 13, 12, 11, 10]\n"
     ]
    }
   ],
   "source": [
    "#Даалгавар №5\n",
    "def Reverse(lst):\n",
    "    return [ele for ele in reversed(lst)]\n",
    "     \n",
    "lst = [10, 11, 12, 13, 14, 15]\n",
    "print(Reverse(lst))"
   ]
  },
  {
   "cell_type": "code",
   "execution_count": 11,
   "id": "43967160",
   "metadata": {},
   "outputs": [
    {
     "name": "stdout",
     "output_type": "stream",
     "text": [
      "25\n"
     ]
    }
   ],
   "source": [
    "#Даалгавар №6\n",
    "numbers = [1,2,3,4,5,1,4,5]\n",
    "Sum = sum(numbers)\n",
    "print(Sum)"
   ]
  },
  {
   "cell_type": "code",
   "execution_count": 12,
   "id": "d6aed8cf",
   "metadata": {},
   "outputs": [
    {
     "name": "stdout",
     "output_type": "stream",
     "text": [
      "['a', 'b', 'c']\n"
     ]
    }
   ],
   "source": [
    "#Даалгавар №7\n",
    "mylist = [\"a\", \"b\", \"a\", \"c\", \"c\"]\n",
    "mylist = list(dict.fromkeys(mylist))\n",
    "print(mylist)"
   ]
  },
  {
   "cell_type": "code",
   "execution_count": 15,
   "id": "3bd8f556",
   "metadata": {},
   "outputs": [
    {
     "name": "stdout",
     "output_type": "stream",
     "text": [
      "Эхний тоог оруулна уу: 4\n",
      "Хоёр дугаар тоог оруулна уу: 4\n",
      "Гурав дугаар тоог оруулна уу: 2\n",
      "Хамгийн их тоо бол 2.0\n"
     ]
    }
   ],
   "source": [
    "#Даалгавар №8\n",
    "num1 = float(input(\"Эхний тоог оруулна уу: \"))\n",
    "num2 = float(input(\"Хоёр дугаар тоог оруулна уу: \"))\n",
    "num3 = float(input(\"Гурав дугаар тоог оруулна уу: \"))\n",
    " \n",
    "if (num1 > num2) and (num1 > num3):\n",
    "   largest = num1\n",
    "elif (num2 > num1) and (num2 > num3):\n",
    "   largest = num2\n",
    "else:\n",
    "   largest = num3\n",
    " \n",
    "print(\"Хамгийн их тоо бол\",largest)"
   ]
  },
  {
   "cell_type": "code",
   "execution_count": null,
   "id": "44a74c82",
   "metadata": {},
   "outputs": [],
   "source": []
  }
 ],
 "metadata": {
  "kernelspec": {
   "display_name": "Python 3 (ipykernel)",
   "language": "python",
   "name": "python3"
  },
  "language_info": {
   "codemirror_mode": {
    "name": "ipython",
    "version": 3
   },
   "file_extension": ".py",
   "mimetype": "text/x-python",
   "name": "python",
   "nbconvert_exporter": "python",
   "pygments_lexer": "ipython3",
   "version": "3.9.7"
  }
 },
 "nbformat": 4,
 "nbformat_minor": 5
}
