{
 "cells": [
  {
   "cell_type": "code",
   "execution_count": 164,
   "id": "bc28a093",
   "metadata": {},
   "outputs": [
    {
     "name": "stdout",
     "output_type": "stream",
     "text": [
      "python\n",
      "php\n",
      "java\n"
     ]
    }
   ],
   "source": [
    "#:Дасгал-1\n",
    "a=[\"python\", \"php\", \"java\"]\n",
    "print(a[0])\n",
    "print(a[1])\n",
    "print(a[2])"
   ]
  },
  {
   "cell_type": "code",
   "execution_count": 165,
   "id": "a19b5b1e",
   "metadata": {},
   "outputs": [
    {
     "name": "stdout",
     "output_type": "stream",
     "text": [
      "65\n"
     ]
    }
   ],
   "source": [
    "#:Дасгал-2\n",
    "numbers = [1, 2, 3, 4, 5, 6, 7, 8, 9, 20]\n",
    "total = 0\n",
    "for number in numbers:\n",
    "     total += number\n",
    "print(total)\n"
   ]
  },
  {
   "cell_type": "code",
   "execution_count": 166,
   "id": "e7ad89b5",
   "metadata": {},
   "outputs": [
    {
     "name": "stdout",
     "output_type": "stream",
     "text": [
      "120\n"
     ]
    }
   ],
   "source": [
    "#:Дасгал-3\n",
    "numbers = [1, 2, 3, 4, 5]\n",
    "result = math.prod(numbers)\n",
    "print(result)"
   ]
  },
  {
   "cell_type": "code",
   "execution_count": 167,
   "id": "92b8c72b",
   "metadata": {},
   "outputs": [
    {
     "name": "stdout",
     "output_type": "stream",
     "text": [
      "15\n"
     ]
    }
   ],
   "source": [
    "#:Дасгал-4\n",
    "numbers = [1, 2, 3, 4, 5]\n",
    "result = (numbers[2]*numbers[-1]) \n",
    "print(result)"
   ]
  },
  {
   "cell_type": "code",
   "execution_count": 168,
   "id": "55a2379a",
   "metadata": {},
   "outputs": [
    {
     "name": "stdout",
     "output_type": "stream",
     "text": [
      "45\n",
      "1\n"
     ]
    }
   ],
   "source": [
    "#:Дасгал-5\n",
    "a_list = [5, 7, 10, 45, 5, 1, 9]\n",
    "maximum = max(a_list)\n",
    "print(maximum)\n",
    "minimum = min(a_list)\n",
    "print(minimum)"
   ]
  },
  {
   "cell_type": "code",
   "execution_count": 41,
   "id": "d8f3f81c",
   "metadata": {},
   "outputs": [],
   "source": [
    "#:Дасгал-6\n"
   ]
  },
  {
   "cell_type": "code",
   "execution_count": 169,
   "id": "794df636",
   "metadata": {},
   "outputs": [
    {
     "name": "stdout",
     "output_type": "stream",
     "text": [
      "['abdba', 'abcd', '121']\n"
     ]
    }
   ],
   "source": [
    "#:Дасгал-7\n",
    "өгөгдөл = [\"abdba\", \"abcd\", \"121\", \"121\", \"abcd\"]\n",
    "өгөгдөл = list(dict.fromkeys(өгөгдөл))\n",
    "print(өгөгдөл)"
   ]
  },
  {
   "cell_type": "code",
   "execution_count": 170,
   "id": "6be6fce3",
   "metadata": {},
   "outputs": [
    {
     "name": "stdout",
     "output_type": "stream",
     "text": [
      "өгөгдөл хоосон\n"
     ]
    }
   ],
   "source": [
    "#:Дасгал-8\n",
    "өгөгдөл = []\n",
    "if өгөгдөл:\n",
    "    print(\"өгөгдөл хоосон биш\")\n",
    "else:\n",
    "    print(\"өгөгдөл хоосон\")"
   ]
  },
  {
   "cell_type": "code",
   "execution_count": 89,
   "id": "c3e1afb1",
   "metadata": {},
   "outputs": [
    {
     "name": "stdout",
     "output_type": "stream",
     "text": [
      "['apple', 'candy', 'honey', 'pineapple', 'egg', 'avocado', 'strawberry']\n"
     ]
    }
   ],
   "source": [
    "#:Дасгал-9\n",
    "mylist = ['apple','candy','honey','sugar','pineapple','coconut','egg','banana','avocado','strawberry'] \n",
    "inexes_to_remove = [3, 5, 7]\n",
    "resultlist = [i for j, i in enumerate(mylist) if j not in inexes_to_remove]\n",
    "print(resultlist)"
   ]
  },
  {
   "cell_type": "code",
   "execution_count": 193,
   "id": "854c7752",
   "metadata": {},
   "outputs": [
    {
     "name": "stdout",
     "output_type": "stream",
     "text": [
      "('1', '2', '3', '4')\n"
     ]
    }
   ],
   "source": [
    "#:Дасгал-10-----\n",
    "a = (\"1\", \"2\", \"3\", \"4\")\n",
    "print (a)"
   ]
  },
  {
   "cell_type": "code",
   "execution_count": 98,
   "id": "98e7fbe3",
   "metadata": {},
   "outputs": [
    {
     "name": "stdout",
     "output_type": "stream",
     "text": [
      "('apple', 'candy', 'honey', 'egg')\n"
     ]
    }
   ],
   "source": [
    "#:Дасгал-11\n",
    "a = (\"apple\",\"candy\",\"honey\")\n",
    "b = (\"egg\",)\n",
    "a = a + b\n",
    "print(a)"
   ]
  },
  {
   "cell_type": "code",
   "execution_count": 108,
   "id": "d637e37b",
   "metadata": {},
   "outputs": [
    {
     "name": "stdout",
     "output_type": "stream",
     "text": [
      "('candy', 'avocado')\n"
     ]
    }
   ],
   "source": [
    "#:Дасгал-12\n",
    "a = ('apple','candy','honey','sugar','pineapple','coconut','egg','banana','avocado','strawberry')\n",
    "b = (a[1],a[-2])\n",
    "print(b)"
   ]
  },
  {
   "cell_type": "code",
   "execution_count": 109,
   "id": "469b4e62",
   "metadata": {},
   "outputs": [],
   "source": [
    "#:Дасгал-13\n"
   ]
  },
  {
   "cell_type": "code",
   "execution_count": 172,
   "id": "a571225d",
   "metadata": {},
   "outputs": [
    {
     "name": "stdout",
     "output_type": "stream",
     "text": [
      "A\n",
      "B\n",
      "C\n",
      "D\n",
      "E\n",
      "F\n",
      "G\n"
     ]
    }
   ],
   "source": [
    "#:Дасгал-14\n",
    "mytuple = ('A', 'B', 'C', 'D', 'E', 'F', 'G')\n",
    "for x in mytuple:\n",
    "  print(x)"
   ]
  },
  {
   "cell_type": "code",
   "execution_count": 114,
   "id": "e0cbaa3e",
   "metadata": {},
   "outputs": [
    {
     "name": "stdout",
     "output_type": "stream",
     "text": [
      "{1, 2, 3}\n"
     ]
    }
   ],
   "source": [
    "#:Дасгал-15\n",
    "set1 = {1, 2}\n",
    "set2 = {1, 3}\n",
    "union = set.union(set1, set2)\n",
    "print(union)"
   ]
  },
  {
   "cell_type": "code",
   "execution_count": 176,
   "id": "6411837d",
   "metadata": {},
   "outputs": [
    {
     "name": "stdout",
     "output_type": "stream",
     "text": [
      "{2, 3}\n"
     ]
    }
   ],
   "source": [
    "#:Дасгал-16\n",
    "x = {2, 3, 5, 6}\n",
    "y = {1, 2, 3, 4}\n",
    "\n",
    "z = x.intersection(y)\n",
    "print(z)"
   ]
  },
  {
   "cell_type": "code",
   "execution_count": 121,
   "id": "279b5338",
   "metadata": {},
   "outputs": [
    {
     "name": "stdout",
     "output_type": "stream",
     "text": [
      "4\n"
     ]
    }
   ],
   "source": [
    "#:Дасгал-17\n",
    "fruits = {'orange', 'apple', 'pear', 'banana'} \n",
    "n = len(fruits)  \n",
    "print(n)"
   ]
  },
  {
   "cell_type": "code",
   "execution_count": 188,
   "id": "e74aefd7",
   "metadata": {},
   "outputs": [],
   "source": [
    "#:Дасгал-18\n"
   ]
  },
  {
   "cell_type": "code",
   "execution_count": 124,
   "id": "f07dced1",
   "metadata": {},
   "outputs": [
    {
     "name": "stdout",
     "output_type": "stream",
     "text": [
      "set()\n"
     ]
    }
   ],
   "source": [
    "#:Дасгал-19\n",
    "fruits = {'orange', 'apple', 'pear', 'banana'} \n",
    "fruits.clear()\n",
    "print(fruits)"
   ]
  },
  {
   "cell_type": "code",
   "execution_count": 126,
   "id": "05cd5551",
   "metadata": {},
   "outputs": [
    {
     "name": "stdout",
     "output_type": "stream",
     "text": [
      "{'Python', 'Java'}\n"
     ]
    }
   ],
   "source": [
    "#:Дасгал-20\n",
    "languages = {'Python', 'Java', 'English'}\n",
    "languages.remove('English')\n",
    "print(languages)"
   ]
  },
  {
   "cell_type": "code",
   "execution_count": 185,
   "id": "3ad5c696",
   "metadata": {},
   "outputs": [
    {
     "name": "stdout",
     "output_type": "stream",
     "text": [
      "[('four', 1), ('three', 2), ('two', 3), ('one', 4)]\n",
      "[('one', 4), ('two', 3), ('three', 2), ('four', 1)]\n"
     ]
    }
   ],
   "source": [
    "#:Дасгал-21\n",
    "d = {\"four\": 1, \"three\":2, \"two\":3, \"one\":4}\n",
    "print(sorted(d.items(), key = lambda kv:kv[1]))\n",
    "print(sorted(d.items(), key = lambda kv:kv[1], reverse = True))"
   ]
  },
  {
   "cell_type": "code",
   "execution_count": 186,
   "id": "1e11bfed",
   "metadata": {},
   "outputs": [
    {
     "name": "stdout",
     "output_type": "stream",
     "text": [
      "өгөгдөл байна\n"
     ]
    }
   ],
   "source": [
    "#:Дасгал-22\n",
    "өгөгдөл = {\"two\": \"2\", \"three\": \"3\", \"four\": \"4\",}\n",
    "key=\"three\"\n",
    "if key in өгөгдөл:\n",
    "    print(\"өгөгдөл байна\") \n",
    "else:\n",
    "    print(\"өгөгдөл байхгүй\")"
   ]
  },
  {
   "cell_type": "code",
   "execution_count": 142,
   "id": "18c12007",
   "metadata": {},
   "outputs": [
    {
     "name": "stdout",
     "output_type": "stream",
     "text": [
      "False\n"
     ]
    }
   ],
   "source": [
    "#:Дасгал-23\n",
    "өгөгдөл = {\"two\": \"2\", \"three\": \"3\", \"four\": \"4\",}\n",
    "contains_1 = 1 in өгөгдөл.values()\n",
    "print(contains_1)\n"
   ]
  },
  {
   "cell_type": "code",
   "execution_count": 143,
   "id": "c377363c",
   "metadata": {},
   "outputs": [
    {
     "name": "stdout",
     "output_type": "stream",
     "text": [
      "Key : one , Value : 1\n",
      "Key : two , Value : 2\n",
      "Key : three , Value : 3\n",
      "Key : four , Value : 4\n"
     ]
    }
   ],
   "source": [
    "#:Дасгал-24\n",
    "my_dict = {\"one\": 1,\"two\":2,\"three\":3,\"four\":4}\n",
    "for item in my_dict:\n",
    "    print(\"Key : {} , Value : {}\".format(item,my_dict[item]))"
   ]
  },
  {
   "cell_type": "code",
   "execution_count": 151,
   "id": "753d2a73",
   "metadata": {
    "scrolled": true
   },
   "outputs": [
    {
     "name": "stdout",
     "output_type": "stream",
     "text": [
      "нэмэгдсэн dict:\n",
      "{'A': 1, 'B': 2, 'C': 3, 'D': 4, 'E': 5, 'F': 6}\n"
     ]
    }
   ],
   "source": [
    "#:Дасгал-25\n",
    "dict_1 = {'A':1, 'B':2, 'C':3}\n",
    "dict_2 = {'D':4, 'E':5, 'F':6}\n",
    "dict_1.update(dict_2)\n",
    "print('нэмэгдсэн dict:')\n",
    "print(dict_1)"
   ]
  },
  {
   "cell_type": "code",
   "execution_count": 163,
   "id": "7f9cd764",
   "metadata": {},
   "outputs": [
    {
     "name": "stdout",
     "output_type": "stream",
     "text": [
      "{'A': 1, 'B': 6, 'C': 8, 'D': 6}\n"
     ]
    }
   ],
   "source": [
    "#:Дасгал-26\n",
    "dict_1 = {'A':1, 'B':2, 'C':3}\n",
    "dict_2 = {'B':4, 'C':5, 'D':6}\n",
    "\n",
    "a_counter = Counter(dict_1)\n",
    "b_counter = Counter(dict_2)\n",
    "\n",
    "add_dict = a_counter + b_counter\n",
    "dict_3 = dict(add_dict)\n",
    "\n",
    "print(dict_3)"
   ]
  },
  {
   "cell_type": "code",
   "execution_count": null,
   "id": "4d880d8b",
   "metadata": {},
   "outputs": [],
   "source": []
  }
 ],
 "metadata": {
  "kernelspec": {
   "display_name": "Python 3 (ipykernel)",
   "language": "python",
   "name": "python3"
  },
  "language_info": {
   "codemirror_mode": {
    "name": "ipython",
    "version": 3
   },
   "file_extension": ".py",
   "mimetype": "text/x-python",
   "name": "python",
   "nbconvert_exporter": "python",
   "pygments_lexer": "ipython3",
   "version": "3.9.7"
  }
 },
 "nbformat": 4,
 "nbformat_minor": 5
}
